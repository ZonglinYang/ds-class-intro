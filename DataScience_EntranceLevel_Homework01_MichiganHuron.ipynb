{
 "cells": [
  {
   "cell_type": "markdown",
   "metadata": {},
   "source": [
    "# Homework01 - MichiganHuron(Zonglin Yang)"
   ]
  },
  {
   "cell_type": "markdown",
   "metadata": {},
   "source": [
    "# Exercise 3"
   ]
  },
  {
   "cell_type": "markdown",
   "metadata": {},
   "source": [
    "1. Write a program flow which will assign `grade` by the test scores using the following conditions:\n",
    "\n",
    "    1. If score >= 90, grade=\"A\"\n",
    "    2. If 80 >= score >90, grade=\"B\"\n",
    "    3. If 70 >= score >80, grade=\"C\"\n",
    "    4. If 60 >= score >70, grade=\"D\"\n",
    "    5. IF score < 60, grade=\"F\""
   ]
  },
  {
   "cell_type": "code",
   "execution_count": 2,
   "metadata": {},
   "outputs": [
    {
     "name": "stdout",
     "output_type": "stream",
     "text": [
      "Enter your grade: 89\n",
      "B\n"
     ]
    }
   ],
   "source": [
    "def checkgrade():\n",
    "    score = eval(input('Enter your grade: '))\n",
    "    if score >= 90:\n",
    "        grade = 'A'\n",
    "    elif score >= 80:\n",
    "        grade = 'B'\n",
    "    elif score >= 70:\n",
    "        grade = 'C'\n",
    "    elif score >= 60:\n",
    "        grade = 'D'\n",
    "    else:\n",
    "        grade = 'F'\n",
    "    print (grade)\n",
    "\n",
    "checkgrade()"
   ]
  },
  {
   "cell_type": "markdown",
   "metadata": {},
   "source": [
    "2. x=1, y=1, write a flow to assign messge to different value base on different criteria as below, and in the end print out the message:\n",
    "\n",
    "a. If x less than y, messge=\"x is less than y\"\n",
    "\n",
    "b. If x larger than y, messge=\"x is greater than y\"\n",
    "\n",
    "c. If x equal to y, messge=\"x is the same as y\""
   ]
  },
  {
   "cell_type": "code",
   "execution_count": 1,
   "metadata": {},
   "outputs": [
    {
     "name": "stdout",
     "output_type": "stream",
     "text": [
      "x is the same as y\n"
     ]
    }
   ],
   "source": [
    "x = y = 1\n",
    "\n",
    "if x < y:\n",
    "    print('x is less than y')\n",
    "elif x > y:\n",
    "    print('x is greater than y')\n",
    "else:\n",
    "    print('x is the same as y')"
   ]
  },
  {
   "cell_type": "markdown",
   "metadata": {},
   "source": [
    "# Exercise 4"
   ]
  },
  {
   "cell_type": "markdown",
   "metadata": {},
   "source": [
    "1. [Read more on `list`](https://docs.python.org/3/tutorial/datastructures.html#more-on-lists) and select 2 list methods not mentioned in class to give examples of using them."
   ]
  },
  {
   "cell_type": "code",
   "execution_count": 11,
   "metadata": {},
   "outputs": [
    {
     "name": "stdout",
     "output_type": "stream",
     "text": [
      "apple\n",
      "None\n",
      "['watermelon0', 'banana', 'cherry']\n"
     ]
    }
   ],
   "source": [
    "fruit = ['apple','banana','cherry']\n",
    "print(fruit.pop(0))\n",
    "print(fruit.insert(0, 'watermelon0'))\n",
    "print(fruit)"
   ]
  },
  {
   "cell_type": "markdown",
   "metadata": {},
   "source": [
    "2. How can you check if a `key` is already in a dictionary? Give an example."
   ]
  },
  {
   "cell_type": "code",
   "execution_count": 8,
   "metadata": {},
   "outputs": [
    {
     "name": "stdout",
     "output_type": "stream",
     "text": [
      "Enter a name of fruit: apple\n",
      "Already exist.\n"
     ]
    }
   ],
   "source": [
    "fruit = dict()\n",
    "fruit['apple'] = 3\n",
    "fruit['banana'] = 2\n",
    "fruit['cherry'] = 4\n",
    "def checkDictKey():\n",
    "    key = input('Enter a name of fruit: ')\n",
    "    if key in fruit.keys():\n",
    "        print ('Already exist.')\n",
    "    else:\n",
    "        print ('You can add this fruit in the dict.')\n",
    "checkDictKey()"
   ]
  },
  {
   "cell_type": "markdown",
   "metadata": {},
   "source": [
    "3. Explore how Counter works as another type of collection. Give 2 examples to use Counter"
   ]
  },
  {
   "cell_type": "code",
   "execution_count": 15,
   "metadata": {},
   "outputs": [
    {
     "data": {
      "text/plain": [
       "Counter({'apple': 2, 'banana': 3, 'cherry': 2, 'watermelon': 1, 'kiwi': 1})"
      ]
     },
     "execution_count": 15,
     "metadata": {},
     "output_type": "execute_result"
    }
   ],
   "source": [
    "# count word\n",
    "from collections import Counter\n",
    "cnt_fruit = Counter()\n",
    "for fruit in ['apple','apple','banana','cherry','watermelon','banana','cherry','kiwi','banana']:\n",
    "    cnt_fruit[fruit] += 1\n",
    "cnt_fruit"
   ]
  },
  {
   "cell_type": "code",
   "execution_count": 16,
   "metadata": {},
   "outputs": [
    {
     "data": {
      "text/plain": [
       "0"
      ]
     },
     "execution_count": 16,
     "metadata": {},
     "output_type": "execute_result"
    }
   ],
   "source": [
    "# check\n",
    "c = Counter(['apple','banana','cherry'])\n",
    "c['watermelon']"
   ]
  },
  {
   "cell_type": "markdown",
   "metadata": {},
   "source": [
    "4. The Fibonacci Sequence is the series of numbers: 0, 1, 1, 2, 3, 5, 8, 13, 21, 34, ...\n",
    "The next number is found by adding up the two numbers before it. Find the last element of the fibolist"
   ]
  },
  {
   "cell_type": "code",
   "execution_count": 17,
   "metadata": {},
   "outputs": [
    {
     "data": {
      "text/plain": [
       "317811"
      ]
     },
     "execution_count": 17,
     "metadata": {},
     "output_type": "execute_result"
    }
   ],
   "source": [
    "fibolist=[0, 1, 1, 2, 3, 5, 8, 13, 21, 34, 55, 89, 144, 233, 377, 610, 987, 1597, 2584, 4181, 6765, 10946, 17711, 28657, 46368, 75025, 121393, 196418, 317811]\n",
    "\n",
    "# code your solution here\n",
    "fibolist[-1]"
   ]
  },
  {
   "cell_type": "markdown",
   "metadata": {},
   "source": [
    "5. Calculate the sum of fibolist"
   ]
  },
  {
   "cell_type": "code",
   "execution_count": 19,
   "metadata": {},
   "outputs": [
    {
     "data": {
      "text/plain": [
       "832039"
      ]
     },
     "execution_count": 19,
     "metadata": {},
     "output_type": "execute_result"
    }
   ],
   "source": [
    "sum(fibolist)"
   ]
  },
  {
   "cell_type": "markdown",
   "metadata": {},
   "source": [
    "6. Calculate and append the next fibonacci number to fibolist."
   ]
  },
  {
   "cell_type": "code",
   "execution_count": 20,
   "metadata": {},
   "outputs": [
    {
     "name": "stdout",
     "output_type": "stream",
     "text": [
      "514229\n"
     ]
    }
   ],
   "source": [
    "next_fibo_num = fibolist[-1] + fibolist[-2]\n",
    "print(next_fibo_num)"
   ]
  },
  {
   "cell_type": "markdown",
   "metadata": {},
   "source": [
    "7. Create a reversed copy of fibolist without permanently reversing fibolist liteslf."
   ]
  },
  {
   "cell_type": "code",
   "execution_count": 21,
   "metadata": {},
   "outputs": [
    {
     "name": "stdout",
     "output_type": "stream",
     "text": [
      "[317811, 196418, 121393, 75025, 46368, 28657, 17711, 10946, 6765, 4181, 2584, 1597, 987, 610, 377, 233, 144, 89, 55, 34, 21, 13, 8, 5, 3, 2, 1, 1, 0]\n"
     ]
    }
   ],
   "source": [
    "fibo_reverse=fibolist # create a copy so there is no change on the original list\n",
    "fibo_reverse.reverse()\n",
    "print(fibo_reverse)"
   ]
  },
  {
   "cell_type": "markdown",
   "metadata": {},
   "source": [
    "8. Check if `29473` is a fibonacci number, and assign the anser to variable `fibo_29473`"
   ]
  },
  {
   "cell_type": "code",
   "execution_count": 22,
   "metadata": {},
   "outputs": [
    {
     "name": "stdout",
     "output_type": "stream",
     "text": [
      "False\n"
     ]
    }
   ],
   "source": [
    "fibo_29473 = 29473 in fibo_reverse\n",
    "print(fibo_29473)"
   ]
  },
  {
   "cell_type": "markdown",
   "metadata": {},
   "source": [
    "9. Create two sets. Calculate the union, intersection, difference and symmetric difference for the two sets."
   ]
  },
  {
   "cell_type": "code",
   "execution_count": 30,
   "metadata": {},
   "outputs": [
    {
     "name": "stdout",
     "output_type": "stream",
     "text": [
      "Union: {'kiwi', 'banana', 'watermelon', 'pear', 'apple', 'strawberry', 'cherry', 'pineapple'}\n",
      "Intersection: {'watermelon', 'banana'}\n",
      "Difference: {'cherry', 'kiwi', 'pear', 'strawberry'}\n",
      "Symmetric difference: {'kiwi', 'apple', 'pear', 'strawberry', 'cherry', 'pineapple'}\n"
     ]
    }
   ],
   "source": [
    "marianosFruit = {'kiwi','watermelon','banana','strawberry','cherry','pear'}\n",
    "jewelFruit = {'apple','banana','watermelon','pineapple'}\n",
    "print('Union:', marianosFruit.union(jewelFruit))\n",
    "print('Intersection:', marianosFruit.intersection(jewelFruit))\n",
    "print('Difference:', marianosFruit.difference(jewelFruit))\n",
    "print('Symmetric difference:', marianosFruit.symmetric_difference(jewelFruit))\n"
   ]
  },
  {
   "cell_type": "markdown",
   "metadata": {},
   "source": [
    "10. Creat a dictionary using at least two different methods."
   ]
  },
  {
   "cell_type": "code",
   "execution_count": 31,
   "metadata": {},
   "outputs": [],
   "source": [
    "dictionary = {}\n",
    "dictionary = dict()"
   ]
  },
  {
   "cell_type": "markdown",
   "metadata": {},
   "source": [
    "11. Check if 2 and 9999 are fibonacci numbers. Create a dictionary fibo_dict with the numbers as keys, and value=True if the number is fibonacci number, and False otherwise."
   ]
  },
  {
   "cell_type": "code",
   "execution_count": 32,
   "metadata": {},
   "outputs": [
    {
     "data": {
      "text/plain": [
       "{2: True, 9999: False}"
      ]
     },
     "execution_count": 32,
     "metadata": {},
     "output_type": "execute_result"
    }
   ],
   "source": [
    "fibo_dict = dict()\n",
    "fibo_dict[2] = 2 in fibolist\n",
    "fibo_dict[9999] = 9999 in fibolist\n",
    "fibo_dict"
   ]
  },
  {
   "cell_type": "code",
   "execution_count": null,
   "metadata": {},
   "outputs": [],
   "source": []
  }
 ],
 "metadata": {
  "kernelspec": {
   "display_name": "Python 3",
   "language": "python",
   "name": "python3"
  },
  "language_info": {
   "codemirror_mode": {
    "name": "ipython",
    "version": 3
   },
   "file_extension": ".py",
   "mimetype": "text/x-python",
   "name": "python",
   "nbconvert_exporter": "python",
   "pygments_lexer": "ipython3",
   "version": "3.7.7"
  }
 },
 "nbformat": 4,
 "nbformat_minor": 4
}
